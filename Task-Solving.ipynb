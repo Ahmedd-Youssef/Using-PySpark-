{
 "cells": [
  {
   "cell_type": "markdown",
   "id": "84853022",
   "metadata": {},
   "source": [
    "# PySpark Taskk "
   ]
  },
  {
   "cell_type": "code",
   "execution_count": 3,
   "id": "33a0266c",
   "metadata": {},
   "outputs": [],
   "source": [
    "from pyspark.sql import SparkSession\n",
    "from pyspark.sql import Row\n",
    "import  pyspark.sql.functions as fun \n",
    "import numpy as np\n",
    "from pyspark.sql.types import *"
   ]
  },
  {
   "cell_type": "code",
   "execution_count": 4,
   "id": "8a5b156c",
   "metadata": {},
   "outputs": [],
   "source": [
    "spark = SparkSession.builder.getOrCreate()\n",
    "sc = spark.sparkContext"
   ]
  },
  {
   "cell_type": "markdown",
   "id": "3a045356",
   "metadata": {},
   "source": [
    "# RDD"
   ]
  },
  {
   "cell_type": "markdown",
   "id": "952d963a",
   "metadata": {},
   "source": [
    "Create an RDD from a list of numbers (1,50) using numpy methods\n"
   ]
  },
  {
   "cell_type": "code",
   "execution_count": 5,
   "id": "16625182",
   "metadata": {},
   "outputs": [
    {
     "name": "stdout",
     "output_type": "stream",
     "text": [
      "[1, 2, 3, 4, 5, 6, 7, 8, 9, 10, 11, 12, 13, 14, 15, 16, 17, 18, 19, 20, 21, 22, 23, 24, 25, 26, 27, 28, 29, 30, 31, 32, 33, 34, 35, 36, 37, 38, 39, 40, 41, 42, 43, 44, 45, 46, 47, 48, 49]\n"
     ]
    }
   ],
   "source": [
    "RDD = sc.parallelize(np.arange(1,50))\n",
    "print(RDD.collect())"
   ]
  },
  {
   "cell_type": "markdown",
   "id": "10ac6a38",
   "metadata": {},
   "source": [
    "Find the sum, average, maximum, minimum, and count"
   ]
  },
  {
   "cell_type": "code",
   "execution_count": 6,
   "id": "8a6c0093",
   "metadata": {},
   "outputs": [
    {
     "name": "stdout",
     "output_type": "stream",
     "text": [
      "Sum =  1225 \n",
      "Average =  25.0 \n",
      "Max =  49 \n",
      "Min =  1 \n",
      "Count =  49\n"
     ]
    }
   ],
   "source": [
    "print(\"Sum = \" , RDD.sum() , \"\\nAverage = \" , RDD.mean() , \"\\nMax = \" , RDD.max() , \"\\nMin = \" , RDD.min() , \"\\nCount = \" , RDD.count())"
   ]
  },
  {
   "cell_type": "markdown",
   "id": "05f10b95",
   "metadata": {},
   "source": [
    "Count how many numbers are even vs. odd."
   ]
  },
  {
   "cell_type": "code",
   "execution_count": 7,
   "id": "64913ace",
   "metadata": {},
   "outputs": [
    {
     "name": "stdout",
     "output_type": "stream",
     "text": [
      "ODD Numbers: 25  EVEN Numbbers: 24\n"
     ]
    }
   ],
   "source": [
    "Odd = RDD.filter(lambda x:x % 2 != 0)\n",
    "Even = RDD.filter(lambda x:x % 2 == 0)\n",
    "print(\"ODD Numbers:\",Odd.count(),\" EVEN Numbbers:\",Even.count())"
   ]
  },
  {
   "cell_type": "markdown",
   "id": "33acc081",
   "metadata": {},
   "source": [
    "You have the following data of people info ('Name', 'Age'), answer the following questions"
   ]
  },
  {
   "cell_type": "code",
   "execution_count": 8,
   "id": "62216222",
   "metadata": {},
   "outputs": [
    {
     "data": {
      "text/plain": [
       "[('Nada ', 25),\n",
       " ('Mona', 30),\n",
       " ('Ahmed', 35),\n",
       " ('Khaled', 40),\n",
       " ('Ahmed', 35),\n",
       " ('Nada ', 25)]"
      ]
     },
     "execution_count": 8,
     "metadata": {},
     "output_type": "execute_result"
    }
   ],
   "source": [
    "people_data = [(\"Nada \", 25), (\"Mona\", 30), (\"Ahmed\", 35), (\"Khaled\", 40),(\"Ahmed\", 35), ('Nada ', 25)]\n",
    "rdd_people = sc.parallelize(people_data)\n",
    "rdd_people.collect()"
   ]
  },
  {
   "cell_type": "markdown",
   "id": "7eacac9e",
   "metadata": {},
   "source": [
    "Find the oldest person"
   ]
  },
  {
   "cell_type": "code",
   "execution_count": 9,
   "id": "d78c7ff5",
   "metadata": {},
   "outputs": [
    {
     "data": {
      "text/plain": [
       "('Khaled', 40)"
      ]
     },
     "execution_count": 9,
     "metadata": {},
     "output_type": "execute_result"
    }
   ],
   "source": [
    "rdd_people.max(key= lambda x:x[1])"
   ]
  },
  {
   "cell_type": "markdown",
   "id": "e244ca08",
   "metadata": {},
   "source": [
    "Compute the average age"
   ]
  },
  {
   "cell_type": "code",
   "execution_count": 10,
   "id": "5a0e585c",
   "metadata": {},
   "outputs": [
    {
     "data": {
      "text/plain": [
       "31.666666666666668"
      ]
     },
     "execution_count": 10,
     "metadata": {},
     "output_type": "execute_result"
    }
   ],
   "source": [
    "ages_rdd = rdd_people.map(lambda x:x[1])\n",
    "ages_rdd.mean()"
   ]
  },
  {
   "cell_type": "markdown",
   "id": "c91951fe",
   "metadata": {},
   "source": [
    "Group all the names by their age"
   ]
  },
  {
   "cell_type": "code",
   "execution_count": 11,
   "id": "a2e54c5b",
   "metadata": {},
   "outputs": [
    {
     "data": {
      "text/plain": [
       "[(40, [('Khaled', 40)]),\n",
       " (25, [('Nada ', 25), ('Nada ', 25)]),\n",
       " (35, [('Ahmed', 35), ('Ahmed', 35)]),\n",
       " (30, [('Mona', 30)])]"
      ]
     },
     "execution_count": 11,
     "metadata": {},
     "output_type": "execute_result"
    }
   ],
   "source": [
    "rdd_people.groupBy(lambda x:x[1]).map(lambda x: (x[0], list(x[1]))).collect()"
   ]
  },
  {
   "cell_type": "markdown",
   "id": "36b751f4",
   "metadata": {},
   "source": [
    "# Text RDD"
   ]
  },
  {
   "cell_type": "markdown",
   "id": "70b21cd5",
   "metadata": {},
   "source": [
    "Take the following text and put it in a text file named russia.txt and load it into rdd\n",
    "\n",
    "\"Russia is the largest country in the world by land area\n",
    "Moscow is the capital city of Russia\n",
    "The Russian language is one of the most widely spoken languages in the world\n",
    "Russia is known for its rich history and culture\n",
    "The Trans-Siberian Railway is the longest railway line in the world\n",
    "Russia has a strong tradition in literature, music and ballet\n",
    "The country is famous for its cold winters and vast landscapes\n",
    "Russia is a major player in global energy production\n",
    "\""
   ]
  },
  {
   "cell_type": "code",
   "execution_count": 12,
   "id": "0a6150d4",
   "metadata": {},
   "outputs": [
    {
     "data": {
      "text/plain": [
       "['Russia is the largest country in the world by land area',\n",
       " 'Moscow is the capital city of Russia',\n",
       " 'The Russian language is one of the most widely spoken languages in the world',\n",
       " 'Russia is known for its rich history and culture',\n",
       " 'The Trans-Siberian Railway is the longest railway line in the world',\n",
       " 'Russia has a strong tradition in literature, music and ballet',\n",
       " 'The country is famous for its cold winters and vast landscapes',\n",
       " 'Russia is a major player in global energy production']"
      ]
     },
     "execution_count": 12,
     "metadata": {},
     "output_type": "execute_result"
    }
   ],
   "source": [
    "rdd_russia = sc.textFile(\"/data/russia.txt\")\n",
    "rdd_russia.collect()"
   ]
  },
  {
   "cell_type": "markdown",
   "id": "3d89604d",
   "metadata": {},
   "source": [
    "Count the total number of lines."
   ]
  },
  {
   "cell_type": "code",
   "execution_count": 13,
   "id": "9c59623f",
   "metadata": {},
   "outputs": [
    {
     "data": {
      "text/plain": [
       "8"
      ]
     },
     "execution_count": 13,
     "metadata": {},
     "output_type": "execute_result"
    }
   ],
   "source": [
    "rdd_russia.count()"
   ]
  },
  {
   "cell_type": "markdown",
   "id": "358e7614",
   "metadata": {},
   "source": [
    "Count how many lines contain the word \"Russia\""
   ]
  },
  {
   "cell_type": "code",
   "execution_count": 54,
   "id": "11d83828",
   "metadata": {},
   "outputs": [
    {
     "data": {
      "text/plain": [
       "6"
      ]
     },
     "execution_count": 54,
     "metadata": {},
     "output_type": "execute_result"
    }
   ],
   "source": [
    "rdd_russia.filter(lambda line: \"Russia\" in line).count()"
   ]
  },
  {
   "cell_type": "markdown",
   "id": "4f39bd9c",
   "metadata": {},
   "source": [
    "Find the most 5 frequent word in the file."
   ]
  },
  {
   "cell_type": "code",
   "execution_count": 58,
   "id": "5b6c0cc3",
   "metadata": {},
   "outputs": [
    {
     "data": {
      "text/plain": [
       "[('is', 7), ('the', 7), ('Russia', 5), ('in', 5), ('world', 3)]"
      ]
     },
     "execution_count": 58,
     "metadata": {},
     "output_type": "execute_result"
    }
   ],
   "source": [
    "rdd_russia.flatMap(lambda line: line.split()).map(lambda word : (word,1)).reduceByKey(lambda a,b:a+b).sortBy(lambda x: x[1], ascending=False).take(5)"
   ]
  },
  {
   "cell_type": "markdown",
   "id": "898d1913",
   "metadata": {},
   "source": [
    "Tokenize words"
   ]
  },
  {
   "cell_type": "code",
   "execution_count": 61,
   "id": "185b5b8a",
   "metadata": {},
   "outputs": [
    {
     "name": "stdout",
     "output_type": "stream",
     "text": [
      "['Russia', 'is', 'the', 'largest', 'country', 'in', 'the', 'world', 'by', 'land', 'area', 'Moscow', 'is', 'the', 'capital', 'city', 'of', 'Russia', 'The', 'Russian', 'language', 'is', 'one', 'of', 'the', 'most', 'widely', 'spoken', 'languages', 'in', 'the', 'world', 'Russia', 'is', 'known', 'for', 'its', 'rich', 'history', 'and', 'culture', 'The', 'Trans-Siberian', 'Railway', 'is', 'the', 'longest', 'railway', 'line', 'in', 'the', 'world', 'Russia', 'has', 'a', 'strong', 'tradition', 'in', 'literature,', 'music', 'and', 'ballet', 'The', 'country', 'is', 'famous', 'for', 'its', 'cold', 'winters', 'and', 'vast', 'landscapes', 'Russia', 'is', 'a', 'major', 'player', 'in', 'global', 'energy', 'production']\n"
     ]
    }
   ],
   "source": [
    "print(rdd_russia.flatMap(lambda word:word.split()).collect())"
   ]
  },
  {
   "cell_type": "markdown",
   "id": "20030486",
   "metadata": {},
   "source": [
    "Remove stopwords (a, the, is, to, in, of). "
   ]
  },
  {
   "cell_type": "code",
   "execution_count": 64,
   "id": "4fbffba4",
   "metadata": {},
   "outputs": [
    {
     "name": "stdout",
     "output_type": "stream",
     "text": [
      "['Russia', 'largest', 'country', 'world', 'by', 'land', 'area', 'Moscow', 'capital', 'city', 'Russia', 'The', 'Russian', 'language', 'one', 'most', 'widely', 'spoken', 'languages', 'world', 'Russia', 'known', 'for', 'its', 'rich', 'history', 'and', 'culture', 'The', 'Trans-Siberian', 'Railway', 'longest', 'railway', 'line', 'world', 'Russia', 'has', 'strong', 'tradition', 'literature,', 'music', 'and', 'ballet', 'The', 'country', 'famous', 'for', 'its', 'cold', 'winters', 'and', 'vast', 'landscapes', 'Russia', 'major', 'player', 'global', 'energy', 'production']\n"
     ]
    }
   ],
   "source": [
    "stopwords = ['a', 'the', 'is', 'to', 'in', 'of']\n",
    "rdd_russia_wihout_stopwords = rdd_russia.flatMap(lambda word:word.split()).filter(lambda word:word not in stopwords)\n",
    "print(rdd_russia_wihout_stopwords.collect())"
   ]
  },
  {
   "cell_type": "markdown",
   "id": "69e2a01c",
   "metadata": {},
   "source": [
    "Count the frequency of each word"
   ]
  },
  {
   "cell_type": "code",
   "execution_count": 68,
   "id": "75c4640b",
   "metadata": {},
   "outputs": [
    {
     "name": "stdout",
     "output_type": "stream",
     "text": [
      "[('Russia', 1), ('largest', 1), ('country', 1), ('world', 1), ('by', 1), ('land', 1), ('area', 1), ('Moscow', 1), ('capital', 1), ('city', 1), ('Russia', 1), ('The', 1), ('Russian', 1), ('language', 1), ('one', 1), ('most', 1), ('widely', 1), ('spoken', 1), ('languages', 1), ('world', 1), ('Russia', 1), ('known', 1), ('for', 1), ('its', 1), ('rich', 1), ('history', 1), ('and', 1), ('culture', 1), ('The', 1), ('Trans-Siberian', 1), ('Railway', 1), ('longest', 1), ('railway', 1), ('line', 1), ('world', 1), ('Russia', 1), ('has', 1), ('strong', 1), ('tradition', 1), ('literature,', 1), ('music', 1), ('and', 1), ('ballet', 1), ('The', 1), ('country', 1), ('famous', 1), ('for', 1), ('its', 1), ('cold', 1), ('winters', 1), ('and', 1), ('vast', 1), ('landscapes', 1), ('Russia', 1), ('major', 1), ('player', 1), ('global', 1), ('energy', 1), ('production', 1)]\n"
     ]
    }
   ],
   "source": [
    "print(rdd_russia_wihout_stopwords.flatMap(lambda line:line.split()).map(lambda word:(word,1)).collect())"
   ]
  },
  {
   "cell_type": "markdown",
   "id": "4a71e3a8",
   "metadata": {},
   "source": [
    "# DataFrame"
   ]
  },
  {
   "cell_type": "code",
   "execution_count": 69,
   "id": "8d02e43b",
   "metadata": {},
   "outputs": [],
   "source": [
    "schema = 'id integer, name string, age integer, salary integer' \n",
    "data = [\n",
    "    (1, \"Ali\", 25, 4000),\n",
    "    (2, \"Mariam\", 30, 6000),\n",
    "    (3, \"Omar\", 35, 7000),\n",
    "    (4, \"Sara\", 28, 5000),\n",
    "    (5, \"Omar\", 25, 6500),\n",
    "    (6, \"Mariam\", 26, 7500)\n",
    "]\n",
    "\n",
    "df = spark.createDataFrame(data,schema)"
   ]
  },
  {
   "cell_type": "markdown",
   "id": "f85969d6",
   "metadata": {},
   "source": [
    "Show schema and first 2 rows"
   ]
  },
  {
   "cell_type": "code",
   "execution_count": 71,
   "id": "8eb8f572",
   "metadata": {},
   "outputs": [
    {
     "name": "stdout",
     "output_type": "stream",
     "text": [
      "root\n",
      " |-- id: integer (nullable = true)\n",
      " |-- name: string (nullable = true)\n",
      " |-- age: integer (nullable = true)\n",
      " |-- salary: integer (nullable = true)\n",
      "\n",
      "+---+------+---+------+\n",
      "| id|  name|age|salary|\n",
      "+---+------+---+------+\n",
      "|  1|   Ali| 25|  4000|\n",
      "|  2|Mariam| 30|  6000|\n",
      "+---+------+---+------+\n",
      "only showing top 2 rows\n",
      "\n"
     ]
    }
   ],
   "source": [
    "df.printSchema()\n",
    "df.show(2)"
   ]
  },
  {
   "cell_type": "markdown",
   "id": "3f252e8b",
   "metadata": {},
   "source": [
    "Select only name and salary"
   ]
  },
  {
   "cell_type": "code",
   "execution_count": 72,
   "id": "559a9727",
   "metadata": {},
   "outputs": [
    {
     "name": "stdout",
     "output_type": "stream",
     "text": [
      "+------+------+\n",
      "|  name|salary|\n",
      "+------+------+\n",
      "|   Ali|  4000|\n",
      "|Mariam|  6000|\n",
      "|  Omar|  7000|\n",
      "|  Sara|  5000|\n",
      "|  Omar|  6500|\n",
      "|Mariam|  7500|\n",
      "+------+------+\n",
      "\n"
     ]
    }
   ],
   "source": [
    "df['name','salary'].show()"
   ]
  },
  {
   "cell_type": "markdown",
   "id": "dffa199f",
   "metadata": {},
   "source": [
    "Find the average salary"
   ]
  },
  {
   "cell_type": "code",
   "execution_count": 84,
   "id": "9cb7078c",
   "metadata": {},
   "outputs": [
    {
     "name": "stdout",
     "output_type": "stream",
     "text": [
      "+-----------+\n",
      "|avg(salary)|\n",
      "+-----------+\n",
      "|     6000.0|\n",
      "+-----------+\n",
      "\n"
     ]
    }
   ],
   "source": [
    "df.agg(fun.avg('salary')).show()\n"
   ]
  },
  {
   "cell_type": "markdown",
   "id": "9e27613c",
   "metadata": {},
   "source": [
    "Filter employees older than 28"
   ]
  },
  {
   "cell_type": "code",
   "execution_count": 89,
   "id": "dacfb838",
   "metadata": {},
   "outputs": [
    {
     "name": "stdout",
     "output_type": "stream",
     "text": [
      "+---+------+---+------+\n",
      "| id|  name|age|salary|\n",
      "+---+------+---+------+\n",
      "|  2|Mariam| 30|  6000|\n",
      "|  3|  Omar| 35|  7000|\n",
      "+---+------+---+------+\n",
      "\n"
     ]
    }
   ],
   "source": [
    "df.select('*').where('age > 28').show()"
   ]
  },
  {
   "cell_type": "markdown",
   "id": "1db0d293",
   "metadata": {},
   "source": [
    "Count distinct values in the name column and Groubed by name"
   ]
  },
  {
   "cell_type": "code",
   "execution_count": null,
   "id": "b6728c07",
   "metadata": {},
   "outputs": [
    {
     "name": "stdout",
     "output_type": "stream",
     "text": [
      "+------+-----+\n",
      "|  name|count|\n",
      "+------+-----+\n",
      "|   Ali|    1|\n",
      "|Mariam|    2|\n",
      "|  Omar|    2|\n",
      "|  Sara|    1|\n",
      "+------+-----+\n",
      "\n"
     ]
    },
    {
     "data": {
      "text/plain": [
       "4"
      ]
     },
     "execution_count": 100,
     "metadata": {},
     "output_type": "execute_result"
    }
   ],
   "source": [
    "df.groupBy('name').count().show()\n",
    "df.select('name').distinct().count() ##\n"
   ]
  },
  {
   "cell_type": "markdown",
   "id": "707ddc32",
   "metadata": {},
   "source": [
    "Group by a the name column and find average salary"
   ]
  },
  {
   "cell_type": "code",
   "execution_count": 101,
   "id": "61d6ae8d",
   "metadata": {},
   "outputs": [
    {
     "name": "stdout",
     "output_type": "stream",
     "text": [
      "+------+-----------+\n",
      "|  name|avg(salary)|\n",
      "+------+-----------+\n",
      "|   Ali|     4000.0|\n",
      "|Mariam|     6750.0|\n",
      "|  Omar|     6750.0|\n",
      "|  Sara|     5000.0|\n",
      "+------+-----------+\n",
      "\n"
     ]
    }
   ],
   "source": [
    "df.groupBy('name').avg('salary').show()"
   ]
  },
  {
   "cell_type": "code",
   "execution_count": 102,
   "id": "acf29e89",
   "metadata": {},
   "outputs": [
    {
     "name": "stdout",
     "output_type": "stream",
     "text": [
      "+----+-----+-----+\n",
      "|  Id| Name|Sales|\n",
      "+----+-----+-----+\n",
      "|emp1| John| NULL|\n",
      "|emp2| NULL| NULL|\n",
      "|emp3| NULL|345.0|\n",
      "|emp4|Cindy|456.0|\n",
      "+----+-----+-----+\n",
      "\n"
     ]
    }
   ],
   "source": [
    "df1 = spark.read.csv(\"/data/NullData.csv\", header=True, inferSchema=True) #this file in shared folder\n",
    "df1.show()"
   ]
  },
  {
   "cell_type": "markdown",
   "id": "20983b99",
   "metadata": {},
   "source": [
    "Find the avg sales "
   ]
  },
  {
   "cell_type": "code",
   "execution_count": 110,
   "id": "efc3201f",
   "metadata": {},
   "outputs": [
    {
     "name": "stdout",
     "output_type": "stream",
     "text": [
      "+----------+\n",
      "|avg(sales)|\n",
      "+----------+\n",
      "|     400.5|\n",
      "+----------+\n",
      "\n"
     ]
    }
   ],
   "source": [
    "df1.agg(fun.avg('sales')).show()\n",
    "x = fun.avg(df1['sales'])"
   ]
  },
  {
   "cell_type": "markdown",
   "id": "d5445ae8",
   "metadata": {},
   "source": [
    "Replace null name with 'Unknown' and sales with the avg sales of the column "
   ]
  },
  {
   "cell_type": "code",
   "execution_count": 112,
   "id": "696dc18a",
   "metadata": {},
   "outputs": [
    {
     "name": "stdout",
     "output_type": "stream",
     "text": [
      "+----+-------+-----+\n",
      "|  Id|   Name|Sales|\n",
      "+----+-------+-----+\n",
      "|emp1|   John|400.5|\n",
      "|emp2|Unknown|400.5|\n",
      "|emp3|Unknown|345.0|\n",
      "|emp4|  Cindy|456.0|\n",
      "+----+-------+-----+\n",
      "\n"
     ]
    }
   ],
   "source": [
    "df1.fillna({'Name' : 'Unknown' , 'Sales' : '400.5'}).show()"
   ]
  },
  {
   "cell_type": "markdown",
   "id": "97f7a007",
   "metadata": {},
   "source": [
    "# End Of Taskk"
   ]
  }
 ],
 "metadata": {
  "kernelspec": {
   "display_name": "Python 3 (ipykernel)",
   "language": "python",
   "name": "python3"
  }
 },
 "nbformat": 4,
 "nbformat_minor": 5
}
